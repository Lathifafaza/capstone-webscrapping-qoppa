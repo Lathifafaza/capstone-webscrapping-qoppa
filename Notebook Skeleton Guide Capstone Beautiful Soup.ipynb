{
 "cells": [
  {
   "cell_type": "markdown",
   "metadata": {},
   "source": [
    "# Capstone Webscrapping using BeautifulSoup\n",
    "\n",
    "This notebook contains guidances & tasks on the data processing for the application\n",
    "\n",
    "## Background\n",
    "\n",
    "<p style='text-align: justify;'> Projek ini merupakan projek webscrapping yang akan memunculkan mengenai pergerakan kurs Rupiah-Dollar sejak tahun 2021 hingga awal tahun 2022 yang dipublikasikan oleh <b>world currency exchange rates</b>. Untuk mengetahui bagaimana pergerakan kurs Rupiah-Dollar maka akan ada 2 point yang digunakan dari web ini yaitu tanggal dari bulan desember 2021 hingga Januari 2022. </p>\n",
    "\n",
    "\n",
    "## Requesting the Data and Creating a BeautifulSoup\n",
    "\n",
    "Let's begin with requesting the web from the site with `get` method."
   ]
  },
  {
   "cell_type": "code",
   "execution_count": 14,
   "metadata": {
    "ExecuteTime": {
     "end_time": "2020-01-13T05:12:23.275508Z",
     "start_time": "2020-01-13T05:12:20.009898Z"
    }
   },
   "outputs": [],
   "source": [
    "import requests\n",
    "url_get = requests.get('https://www.exchange-rates.org/history/IDR/USD/T')"
   ]
  },
  {
   "cell_type": "markdown",
   "metadata": {},
   "source": [
    "To visualize what exactly you get from the `request.get`, we can use .content so ee what we exactly get, in here i slice it so it won't make our screen full of the html we get from the page. You can delete the slicing if you want to see what we fully get."
   ]
  },
  {
   "cell_type": "code",
   "execution_count": 15,
   "metadata": {
    "ExecuteTime": {
     "end_time": "2020-01-13T05:12:23.290648Z",
     "start_time": "2020-01-13T05:12:23.277650Z"
    }
   },
   "outputs": [
    {
     "data": {
      "text/plain": [
       "b'!DOCTYPE html>\\r\\n<!--[if lt IE 9]>\\r\\n<html class=\"no-js ie8 oldie\" lang=\"en\" xml:lang=\\'en\\'>\\r\\n<![endif]-->\\r\\n<!--[if gt IE 8]><!--><html class=\"no-js\" lang=\"en\" xml:lang=\\'en\\'><!--<![endif]-->\\r\\n<head>\\r\\n<title>Indonesian Rupiah Exchange Rate - US Dollar - Historical Exchange Rates</title>\\r\\n<meta http-equiv=\"X-UA-Compatible\" content=\"IE=edge\">\\r\\n<meta name=\"viewport\" content=\"width=device-width, initial-scale=1, maximum-scale=5\">\\r\\n<meta charset=\"utf-8\" /><meta http-equiv=\"Content-Type\" content=\"text/ht'"
      ]
     },
     "execution_count": 15,
     "metadata": {},
     "output_type": "execute_result"
    }
   ],
   "source": [
    "url_get.content[1:500]"
   ]
  },
  {
   "cell_type": "markdown",
   "metadata": {},
   "source": [
    "\n",
    "<p style='text-align: justify;'> As we can see we get a very unstructured and complex html, which actually contains the codes needed to show the webpages on your web browser. But we as human still confused what and where we can use that piece of code, so here where we use the beautifulsoup. Beautiful soup class will result a beautifulsoup object. Beautiful Soup transforms a complex HTML document into a complex tree of Python objects. \n",
    "\n",
    "Let's make Beautiful soup object and feel free to explore the object here.</p>"
   ]
  },
  {
   "cell_type": "code",
   "execution_count": 16,
   "metadata": {
    "ExecuteTime": {
     "end_time": "2020-01-13T05:12:23.808122Z",
     "start_time": "2020-01-13T05:12:23.292610Z"
    }
   },
   "outputs": [
    {
     "name": "stdout",
     "output_type": "stream",
     "text": [
      "<class 'bs4.BeautifulSoup'>\n"
     ]
    }
   ],
   "source": [
    "from bs4 import BeautifulSoup \n",
    "\n",
    "soup = BeautifulSoup(url_get.content,\"html.parser\")\n",
    "print(type(soup))"
   ]
  },
  {
   "cell_type": "markdown",
   "metadata": {},
   "source": [
    "## Finding the right key to scrap the data & Extracting the right information"
   ]
  },
  {
   "cell_type": "markdown",
   "metadata": {},
   "source": [
    "\n",
    " Find the key and put the key into the `.find()` Put all the exploring the right key at this cell. <p style='text-align: justify;'>(Setelah mendapatkan html nya maka dicari kunci yang mewakili keseluruhan tabel pertukaran kurs Rupiah dan Dollar kemudian dimasukkan ke dalam kodingan seperti yang ada dibawah ini,Untuk menemukan rincian html agar terstruktur maka menggunakan .<b>find() </b> lalu memasukkan key yang mewakili seluruh tabel yaitu <b>table class=\"table table-striped table-hover table-hover-solid-row table-simple history-data\"</b> kemudian menggunakan perintah print untuk memunculkan html yang format menjadi Unicode String oleh <b>.prettify</b> dan supaya rapi maka menggunakan <b>[1:500]</b> supaya hanya 500 karakter pertama yang muncul kemudian untuk mengetahui berapa banyak data yang akan di scrapping maka perlu menemukan panjanga kolom nya dengan menggunakan <b>len()</b>)</p>\n"
   ]
  },
  {
   "cell_type": "code",
   "execution_count": 17,
   "metadata": {
    "ExecuteTime": {
     "end_time": "2020-01-13T05:12:23.878904Z",
     "start_time": "2020-01-13T05:12:23.854974Z"
    }
   },
   "outputs": [
    {
     "name": "stdout",
     "output_type": "stream",
     "text": [
      "table class=\"table table-striped table-hover table-hover-solid-row table-simple history-data\">\n",
      " <tbody>\n",
      "  <tr>\n",
      "   <td>\n",
      "    1/7/2022\n",
      "   </td>\n",
      "   <td>\n",
      "    Friday\n",
      "   </td>\n",
      "   <td>\n",
      "    <a href=\"/Rate/USD/IDR/1-7-2022\">\n",
      "     14,303.69386\n",
      "    </a>\n",
      "    IDR\n",
      "   </td>\n",
      "   <td class=\"text-narrow-screen-hidden\">\n",
      "    <a href=\"/Rate/USD/IDR/1-7-2022\">\n",
      "     USD IDR rate for 1/7/2022\n",
      "    </a>\n",
      "   </td>\n",
      "  </tr>\n",
      "  <tr>\n",
      "   <td>\n",
      "    1/6/2022\n",
      "   </td>\n",
      "   <td>\n",
      "    Thursday\n",
      "   </td>\n",
      "   <td>\n",
      "    <a href=\"/Rate/USD/IDR/1\n"
     ]
    }
   ],
   "source": [
    "table = soup.find('table', attrs={'class':'table table-striped table-hover table-hover-solid-row table-simple history-data'})\n",
    "print(table.prettify()[1:500])"
   ]
  },
  {
   "cell_type": "code",
   "execution_count": 18,
   "metadata": {},
   "outputs": [],
   "source": [
    "tr = table.find_all('tr',attrs={'class':\"\"})"
   ]
  },
  {
   "cell_type": "markdown",
   "metadata": {},
   "source": [
    "Finding row length."
   ]
  },
  {
   "cell_type": "code",
   "execution_count": 19,
   "metadata": {},
   "outputs": [
    {
     "data": {
      "text/plain": [
       "130"
      ]
     },
     "execution_count": 19,
     "metadata": {},
     "output_type": "execute_result"
    }
   ],
   "source": [
    "row = table.find_all('tr')\n",
    "row_length = len(row)\n",
    "row_length"
   ]
  },
  {
   "cell_type": "markdown",
   "metadata": {},
   "source": [
    "<p style='text-align: justify;'>Do the scrapping process here (Untuk medapatkan tanggal dan nilai pertukaran maka perlu memasukkan variabel panjang rabel supaya ditemukan atribut tanggal dan nilai mata uang sehingga menghasilkan code seperti dibawah ini, kemudian digunakan <b>.append</b> untuk menggabungkan kedua kolom. Untuk memudahkan visualisasinya maka variabel temp yang berisi tabel di reverse supaya nantinya bisa ditampilkan diagram dari tanggal paling lama ke paling baru)</p>"
   ]
  },
  {
   "cell_type": "code",
   "execution_count": 20,
   "metadata": {
    "ExecuteTime": {
     "end_time": "2020-01-13T05:12:24.008256Z",
     "start_time": "2020-01-13T05:12:23.980358Z"
    }
   },
   "outputs": [
    {
     "data": {
      "text/plain": [
       "[('1/6/2022', '14,387.13904 IDR'),\n",
       " ('1/5/2022', '14,376.59427 IDR'),\n",
       " ('1/4/2022', '14,306.22137 IDR'),\n",
       " ('1/3/2022', '14,271.10676 IDR'),\n",
       " ('12/31/2021', '14,184.77099 IDR'),\n",
       " ('12/30/2021', '14,249.76380 IDR'),\n",
       " ('12/29/2021', '14,198.28676 IDR'),\n",
       " ('12/28/2021', '14,221.34174 IDR'),\n",
       " ('12/27/2021', '14,227.31928 IDR'),\n",
       " ('12/24/2021', '14,264.51755 IDR'),\n",
       " ('12/23/2021', '14,256.89960 IDR'),\n",
       " ('12/22/2021', '14,298.20378 IDR'),\n",
       " ('12/21/2021', '14,304.01234 IDR'),\n",
       " ('12/20/2021', '14,382.49273 IDR'),\n",
       " ('12/17/2021', '14,389.66562 IDR'),\n",
       " ('12/16/2021', '14,330.91366 IDR'),\n",
       " ('12/15/2021', '14,251.62584 IDR'),\n",
       " ('12/14/2021', '14,341.93227 IDR'),\n",
       " ('12/13/2021', '14,357.75629 IDR'),\n",
       " ('12/10/2021', '14,370.27875 IDR'),\n",
       " ('12/9/2021', '14,344.97904 IDR'),\n",
       " ('12/8/2021', '14,370.91961 IDR'),\n",
       " ('12/7/2021', '14,347.32452 IDR'),\n",
       " ('12/6/2021', '14,432.56943 IDR'),\n",
       " ('12/3/2021', '14,389.50020 IDR'),\n",
       " ('12/2/2021', '14,392.39767 IDR'),\n",
       " ('12/1/2021', '14,347.93748 IDR'),\n",
       " ('11/30/2021', '14,353.30743 IDR'),\n",
       " ('11/29/2021', '14,295.39385 IDR'),\n",
       " ('11/26/2021', '14,300.35336 IDR'),\n",
       " ('11/25/2021', '14,283.22294 IDR'),\n",
       " ('11/24/2021', '14,320.08606 IDR'),\n",
       " ('11/23/2021', '14,259.04525 IDR'),\n",
       " ('11/22/2021', '14,243.50566 IDR'),\n",
       " ('11/19/2021', '14,243.55587 IDR'),\n",
       " ('11/18/2021', '14,225.41528 IDR'),\n",
       " ('11/17/2021', '14,246.59228 IDR'),\n",
       " ('11/16/2021', '14,222.37140 IDR'),\n",
       " ('11/15/2021', '14,235.75523 IDR'),\n",
       " ('11/12/2021', '14,233.63534 IDR'),\n",
       " ('11/11/2021', '14,288.84762 IDR'),\n",
       " ('11/10/2021', '14,271.96265 IDR'),\n",
       " ('11/9/2021', '14,243.01887 IDR'),\n",
       " ('11/8/2021', '14,257.97264 IDR'),\n",
       " ('11/5/2021', '14,338.39761 IDR'),\n",
       " ('11/4/2021', '14,334.06331 IDR'),\n",
       " ('11/3/2021', '14,256.74541 IDR'),\n",
       " ('11/2/2021', '14,256.29202 IDR'),\n",
       " ('11/1/2021', '14,233.76847 IDR'),\n",
       " ('10/29/2021', '14,288.95452 IDR'),\n",
       " ('10/28/2021', '14,175.29082 IDR'),\n",
       " ('10/27/2021', '14,141.55342 IDR'),\n",
       " ('10/26/2021', '14,166.19588 IDR'),\n",
       " ('10/25/2021', '14,152.60477 IDR'),\n",
       " ('10/22/2021', '14,110.21079 IDR'),\n",
       " ('10/21/2021', '14,121.60389 IDR'),\n",
       " ('10/20/2021', '14,079.51380 IDR'),\n",
       " ('10/19/2021', '14,075.46229 IDR'),\n",
       " ('10/18/2021', '14,056.43762 IDR'),\n",
       " ('10/15/2021', '14,070.19147 IDR'),\n",
       " ('10/14/2021', '14,105.27223 IDR'),\n",
       " ('10/13/2021', '14,204.85164 IDR'),\n",
       " ('10/12/2021', '14,214.84450 IDR'),\n",
       " ('10/11/2021', '14,220.90165 IDR'),\n",
       " ('10/8/2021', '14,217.98083 IDR'),\n",
       " ('10/7/2021', '14,248.99612 IDR'),\n",
       " ('10/6/2021', '14,245.00000 IDR'),\n",
       " ('10/5/2021', '14,260.00000 IDR'),\n",
       " ('10/4/2021', '14,262.54265 IDR'),\n",
       " ('10/1/2021', '14,293.86378 IDR'),\n",
       " ('9/30/2021', '14,298.48079 IDR'),\n",
       " ('9/29/2021', '14,367.73186 IDR'),\n",
       " ('9/28/2021', '14,271.16497 IDR'),\n",
       " ('9/27/2021', '14,264.68406 IDR'),\n",
       " ('9/24/2021', '14,272.18430 IDR'),\n",
       " ('9/23/2021', '14,242.87856 IDR'),\n",
       " ('9/22/2021', '14,299.15334 IDR'),\n",
       " ('9/21/2021', '14,238.62381 IDR'),\n",
       " ('9/20/2021', '14,235.10302 IDR'),\n",
       " ('9/17/2021', '14,293.12609 IDR'),\n",
       " ('9/16/2021', '14,250.19893 IDR'),\n",
       " ('9/15/2021', '14,235.96566 IDR'),\n",
       " ('9/14/2021', '14,244.84504 IDR'),\n",
       " ('9/13/2021', '14,298.65671 IDR'),\n",
       " ('9/10/2021', '14,226.67070 IDR'),\n",
       " ('9/9/2021', '14,260.57530 IDR'),\n",
       " ('9/8/2021', '14,251.89711 IDR'),\n",
       " ('9/7/2021', '14,249.33912 IDR'),\n",
       " ('9/6/2021', '14,214.47321 IDR'),\n",
       " ('9/3/2021', '14,251.87392 IDR'),\n",
       " ('9/2/2021', '14,248.52165 IDR'),\n",
       " ('9/1/2021', '14,257.71231 IDR'),\n",
       " ('8/31/2021', '14,296.13264 IDR'),\n",
       " ('8/30/2021', '14,367.01609 IDR'),\n",
       " ('8/27/2021', '14,368.74436 IDR'),\n",
       " ('8/26/2021', '14,415.01986 IDR'),\n",
       " ('8/25/2021', '14,386.20000 IDR'),\n",
       " ('8/24/2021', '14,379.34070 IDR'),\n",
       " ('8/23/2021', '14,400.21794 IDR'),\n",
       " ('8/20/2021', '14,460.04574 IDR'),\n",
       " ('8/19/2021', '14,411.77604 IDR'),\n",
       " ('8/18/2021', '14,372.20861 IDR'),\n",
       " ('8/17/2021', '14,439.92418 IDR'),\n",
       " ('8/16/2021', '14,376.39296 IDR'),\n",
       " ('8/13/2021', '14,327.19776 IDR'),\n",
       " ('8/12/2021', '14,387.28127 IDR'),\n",
       " ('8/11/2021', '14,385.48676 IDR'),\n",
       " ('8/10/2021', '14,379.25224 IDR'),\n",
       " ('8/9/2021', '14,363.60538 IDR'),\n",
       " ('8/6/2021', '14,403.07373 IDR'),\n",
       " ('8/5/2021', '14,315.95314 IDR'),\n",
       " ('8/4/2021', '14,313.11092 IDR'),\n",
       " ('8/3/2021', '14,391.49693 IDR'),\n",
       " ('8/2/2021', '14,445.82502 IDR'),\n",
       " ('7/30/2021', '14,501.55250 IDR'),\n",
       " ('7/29/2021', '14,467.14994 IDR'),\n",
       " ('7/28/2021', '14,414.21667 IDR'),\n",
       " ('7/27/2021', '14,468.66842 IDR'),\n",
       " ('7/26/2021', '14,487.54718 IDR'),\n",
       " ('7/23/2021', '14,492.63051 IDR'),\n",
       " ('7/22/2021', '14,508.09177 IDR'),\n",
       " ('7/21/2021', '14,495.34596 IDR'),\n",
       " ('7/20/2021', '14,514.10964 IDR'),\n",
       " ('7/19/2021', '14,490.12260 IDR'),\n",
       " ('7/16/2021', '14,495.41215 IDR'),\n",
       " ('7/15/2021', '14,469.95831 IDR'),\n",
       " ('7/14/2021', '14,404.17703 IDR'),\n",
       " ('7/13/2021', '14,476.52203 IDR'),\n",
       " ('7/12/2021', '14,491.59294 IDR')]"
      ]
     },
     "execution_count": 20,
     "metadata": {},
     "output_type": "execute_result"
    }
   ],
   "source": [
    "temp = [] #initiating a tuple\n",
    "\n",
    "for i in range(1, len(tr)):\n",
    "    row = table.find_all('tr',attrs={'class':\"\"})[i]\n",
    "    \n",
    "    #tanggal\n",
    "    date = row.find_all('td')[0].text\n",
    "    date = date.strip()\n",
    "\n",
    "    \n",
    "    #nilai uang\n",
    "    value = row.find_all('td')[2].text\n",
    "    value = value.strip()\n",
    "    \n",
    "    \n",
    "    temp.append((date, value))\n",
    "\n",
    "temp"
   ]
  },
  {
   "cell_type": "code",
   "execution_count": 21,
   "metadata": {},
   "outputs": [
    {
     "data": {
      "text/plain": [
       "[('7/12/2021', '14,491.59294 IDR'),\n",
       " ('7/13/2021', '14,476.52203 IDR'),\n",
       " ('7/14/2021', '14,404.17703 IDR'),\n",
       " ('7/15/2021', '14,469.95831 IDR'),\n",
       " ('7/16/2021', '14,495.41215 IDR'),\n",
       " ('7/19/2021', '14,490.12260 IDR'),\n",
       " ('7/20/2021', '14,514.10964 IDR'),\n",
       " ('7/21/2021', '14,495.34596 IDR'),\n",
       " ('7/22/2021', '14,508.09177 IDR'),\n",
       " ('7/23/2021', '14,492.63051 IDR'),\n",
       " ('7/26/2021', '14,487.54718 IDR'),\n",
       " ('7/27/2021', '14,468.66842 IDR'),\n",
       " ('7/28/2021', '14,414.21667 IDR'),\n",
       " ('7/29/2021', '14,467.14994 IDR'),\n",
       " ('7/30/2021', '14,501.55250 IDR'),\n",
       " ('8/2/2021', '14,445.82502 IDR'),\n",
       " ('8/3/2021', '14,391.49693 IDR'),\n",
       " ('8/4/2021', '14,313.11092 IDR'),\n",
       " ('8/5/2021', '14,315.95314 IDR'),\n",
       " ('8/6/2021', '14,403.07373 IDR'),\n",
       " ('8/9/2021', '14,363.60538 IDR'),\n",
       " ('8/10/2021', '14,379.25224 IDR'),\n",
       " ('8/11/2021', '14,385.48676 IDR'),\n",
       " ('8/12/2021', '14,387.28127 IDR'),\n",
       " ('8/13/2021', '14,327.19776 IDR'),\n",
       " ('8/16/2021', '14,376.39296 IDR'),\n",
       " ('8/17/2021', '14,439.92418 IDR'),\n",
       " ('8/18/2021', '14,372.20861 IDR'),\n",
       " ('8/19/2021', '14,411.77604 IDR'),\n",
       " ('8/20/2021', '14,460.04574 IDR'),\n",
       " ('8/23/2021', '14,400.21794 IDR'),\n",
       " ('8/24/2021', '14,379.34070 IDR'),\n",
       " ('8/25/2021', '14,386.20000 IDR'),\n",
       " ('8/26/2021', '14,415.01986 IDR'),\n",
       " ('8/27/2021', '14,368.74436 IDR'),\n",
       " ('8/30/2021', '14,367.01609 IDR'),\n",
       " ('8/31/2021', '14,296.13264 IDR'),\n",
       " ('9/1/2021', '14,257.71231 IDR'),\n",
       " ('9/2/2021', '14,248.52165 IDR'),\n",
       " ('9/3/2021', '14,251.87392 IDR'),\n",
       " ('9/6/2021', '14,214.47321 IDR'),\n",
       " ('9/7/2021', '14,249.33912 IDR'),\n",
       " ('9/8/2021', '14,251.89711 IDR'),\n",
       " ('9/9/2021', '14,260.57530 IDR'),\n",
       " ('9/10/2021', '14,226.67070 IDR'),\n",
       " ('9/13/2021', '14,298.65671 IDR'),\n",
       " ('9/14/2021', '14,244.84504 IDR'),\n",
       " ('9/15/2021', '14,235.96566 IDR'),\n",
       " ('9/16/2021', '14,250.19893 IDR'),\n",
       " ('9/17/2021', '14,293.12609 IDR'),\n",
       " ('9/20/2021', '14,235.10302 IDR'),\n",
       " ('9/21/2021', '14,238.62381 IDR'),\n",
       " ('9/22/2021', '14,299.15334 IDR'),\n",
       " ('9/23/2021', '14,242.87856 IDR'),\n",
       " ('9/24/2021', '14,272.18430 IDR'),\n",
       " ('9/27/2021', '14,264.68406 IDR'),\n",
       " ('9/28/2021', '14,271.16497 IDR'),\n",
       " ('9/29/2021', '14,367.73186 IDR'),\n",
       " ('9/30/2021', '14,298.48079 IDR'),\n",
       " ('10/1/2021', '14,293.86378 IDR'),\n",
       " ('10/4/2021', '14,262.54265 IDR'),\n",
       " ('10/5/2021', '14,260.00000 IDR'),\n",
       " ('10/6/2021', '14,245.00000 IDR'),\n",
       " ('10/7/2021', '14,248.99612 IDR'),\n",
       " ('10/8/2021', '14,217.98083 IDR'),\n",
       " ('10/11/2021', '14,220.90165 IDR'),\n",
       " ('10/12/2021', '14,214.84450 IDR'),\n",
       " ('10/13/2021', '14,204.85164 IDR'),\n",
       " ('10/14/2021', '14,105.27223 IDR'),\n",
       " ('10/15/2021', '14,070.19147 IDR'),\n",
       " ('10/18/2021', '14,056.43762 IDR'),\n",
       " ('10/19/2021', '14,075.46229 IDR'),\n",
       " ('10/20/2021', '14,079.51380 IDR'),\n",
       " ('10/21/2021', '14,121.60389 IDR'),\n",
       " ('10/22/2021', '14,110.21079 IDR'),\n",
       " ('10/25/2021', '14,152.60477 IDR'),\n",
       " ('10/26/2021', '14,166.19588 IDR'),\n",
       " ('10/27/2021', '14,141.55342 IDR'),\n",
       " ('10/28/2021', '14,175.29082 IDR'),\n",
       " ('10/29/2021', '14,288.95452 IDR'),\n",
       " ('11/1/2021', '14,233.76847 IDR'),\n",
       " ('11/2/2021', '14,256.29202 IDR'),\n",
       " ('11/3/2021', '14,256.74541 IDR'),\n",
       " ('11/4/2021', '14,334.06331 IDR'),\n",
       " ('11/5/2021', '14,338.39761 IDR'),\n",
       " ('11/8/2021', '14,257.97264 IDR'),\n",
       " ('11/9/2021', '14,243.01887 IDR'),\n",
       " ('11/10/2021', '14,271.96265 IDR'),\n",
       " ('11/11/2021', '14,288.84762 IDR'),\n",
       " ('11/12/2021', '14,233.63534 IDR'),\n",
       " ('11/15/2021', '14,235.75523 IDR'),\n",
       " ('11/16/2021', '14,222.37140 IDR'),\n",
       " ('11/17/2021', '14,246.59228 IDR'),\n",
       " ('11/18/2021', '14,225.41528 IDR'),\n",
       " ('11/19/2021', '14,243.55587 IDR'),\n",
       " ('11/22/2021', '14,243.50566 IDR'),\n",
       " ('11/23/2021', '14,259.04525 IDR'),\n",
       " ('11/24/2021', '14,320.08606 IDR'),\n",
       " ('11/25/2021', '14,283.22294 IDR'),\n",
       " ('11/26/2021', '14,300.35336 IDR'),\n",
       " ('11/29/2021', '14,295.39385 IDR'),\n",
       " ('11/30/2021', '14,353.30743 IDR'),\n",
       " ('12/1/2021', '14,347.93748 IDR'),\n",
       " ('12/2/2021', '14,392.39767 IDR'),\n",
       " ('12/3/2021', '14,389.50020 IDR'),\n",
       " ('12/6/2021', '14,432.56943 IDR'),\n",
       " ('12/7/2021', '14,347.32452 IDR'),\n",
       " ('12/8/2021', '14,370.91961 IDR'),\n",
       " ('12/9/2021', '14,344.97904 IDR'),\n",
       " ('12/10/2021', '14,370.27875 IDR'),\n",
       " ('12/13/2021', '14,357.75629 IDR'),\n",
       " ('12/14/2021', '14,341.93227 IDR'),\n",
       " ('12/15/2021', '14,251.62584 IDR'),\n",
       " ('12/16/2021', '14,330.91366 IDR'),\n",
       " ('12/17/2021', '14,389.66562 IDR'),\n",
       " ('12/20/2021', '14,382.49273 IDR'),\n",
       " ('12/21/2021', '14,304.01234 IDR'),\n",
       " ('12/22/2021', '14,298.20378 IDR'),\n",
       " ('12/23/2021', '14,256.89960 IDR'),\n",
       " ('12/24/2021', '14,264.51755 IDR'),\n",
       " ('12/27/2021', '14,227.31928 IDR'),\n",
       " ('12/28/2021', '14,221.34174 IDR'),\n",
       " ('12/29/2021', '14,198.28676 IDR'),\n",
       " ('12/30/2021', '14,249.76380 IDR'),\n",
       " ('12/31/2021', '14,184.77099 IDR'),\n",
       " ('1/3/2022', '14,271.10676 IDR'),\n",
       " ('1/4/2022', '14,306.22137 IDR'),\n",
       " ('1/5/2022', '14,376.59427 IDR'),\n",
       " ('1/6/2022', '14,387.13904 IDR')]"
      ]
     },
     "execution_count": 21,
     "metadata": {},
     "output_type": "execute_result"
    }
   ],
   "source": [
    "temp = temp[::-1]\n",
    "temp"
   ]
  },
  {
   "cell_type": "markdown",
   "metadata": {},
   "source": [
    "## Creating data frame & Data wrangling"
   ]
  },
  {
   "cell_type": "markdown",
   "metadata": {},
   "source": [
    "Put the array into dataframe"
   ]
  },
  {
   "cell_type": "code",
   "execution_count": 22,
   "metadata": {
    "ExecuteTime": {
     "end_time": "2020-01-13T05:12:41.517372Z",
     "start_time": "2020-01-13T05:12:29.130015Z"
    }
   },
   "outputs": [
    {
     "data": {
      "text/html": [
       "<div>\n",
       "<style scoped>\n",
       "    .dataframe tbody tr th:only-of-type {\n",
       "        vertical-align: middle;\n",
       "    }\n",
       "\n",
       "    .dataframe tbody tr th {\n",
       "        vertical-align: top;\n",
       "    }\n",
       "\n",
       "    .dataframe thead th {\n",
       "        text-align: right;\n",
       "    }\n",
       "</style>\n",
       "<table border=\"1\" class=\"dataframe\">\n",
       "  <thead>\n",
       "    <tr style=\"text-align: right;\">\n",
       "      <th></th>\n",
       "      <th>date</th>\n",
       "      <th>value</th>\n",
       "    </tr>\n",
       "  </thead>\n",
       "  <tbody>\n",
       "    <tr>\n",
       "      <th>0</th>\n",
       "      <td>7/12/2021</td>\n",
       "      <td>14491.59294</td>\n",
       "    </tr>\n",
       "    <tr>\n",
       "      <th>1</th>\n",
       "      <td>7/13/2021</td>\n",
       "      <td>14476.52203</td>\n",
       "    </tr>\n",
       "    <tr>\n",
       "      <th>2</th>\n",
       "      <td>7/14/2021</td>\n",
       "      <td>14404.17703</td>\n",
       "    </tr>\n",
       "    <tr>\n",
       "      <th>3</th>\n",
       "      <td>7/15/2021</td>\n",
       "      <td>14469.95831</td>\n",
       "    </tr>\n",
       "    <tr>\n",
       "      <th>4</th>\n",
       "      <td>7/16/2021</td>\n",
       "      <td>14495.41215</td>\n",
       "    </tr>\n",
       "  </tbody>\n",
       "</table>\n",
       "</div>"
      ],
      "text/plain": [
       "        date        value\n",
       "0  7/12/2021  14491.59294\n",
       "1  7/13/2021  14476.52203\n",
       "2  7/14/2021  14404.17703\n",
       "3  7/15/2021  14469.95831\n",
       "4  7/16/2021  14495.41215"
      ]
     },
     "execution_count": 22,
     "metadata": {},
     "output_type": "execute_result"
    }
   ],
   "source": [
    "import pandas as pd\n",
    "\n",
    "df = pd.DataFrame(temp, columns = ('date', 'value'))\n",
    "df['value'] = df['value'].replace('IDR',\"\",regex=True).replace(',',\"\",regex=True)\n",
    "df['value'] = df['value'].astype('float64')\n",
    "df.head()"
   ]
  },
  {
   "cell_type": "markdown",
   "metadata": {},
   "source": [
    "Do the data cleaning here (Untuk memunculkan plot yang diinginkan maka melakukan `.set_index` terhadap tanggalnya)"
   ]
  },
  {
   "cell_type": "code",
   "execution_count": 23,
   "metadata": {
    "ExecuteTime": {
     "end_time": "2020-01-13T05:12:59.165559Z",
     "start_time": "2020-01-13T05:12:58.910012Z"
    }
   },
   "outputs": [
    {
     "data": {
      "text/html": [
       "<div>\n",
       "<style scoped>\n",
       "    .dataframe tbody tr th:only-of-type {\n",
       "        vertical-align: middle;\n",
       "    }\n",
       "\n",
       "    .dataframe tbody tr th {\n",
       "        vertical-align: top;\n",
       "    }\n",
       "\n",
       "    .dataframe thead th {\n",
       "        text-align: right;\n",
       "    }\n",
       "</style>\n",
       "<table border=\"1\" class=\"dataframe\">\n",
       "  <thead>\n",
       "    <tr style=\"text-align: right;\">\n",
       "      <th></th>\n",
       "      <th>value</th>\n",
       "    </tr>\n",
       "    <tr>\n",
       "      <th>date</th>\n",
       "      <th></th>\n",
       "    </tr>\n",
       "  </thead>\n",
       "  <tbody>\n",
       "    <tr>\n",
       "      <th>7/12/2021</th>\n",
       "      <td>14491.59294</td>\n",
       "    </tr>\n",
       "    <tr>\n",
       "      <th>7/13/2021</th>\n",
       "      <td>14476.52203</td>\n",
       "    </tr>\n",
       "    <tr>\n",
       "      <th>7/14/2021</th>\n",
       "      <td>14404.17703</td>\n",
       "    </tr>\n",
       "    <tr>\n",
       "      <th>7/15/2021</th>\n",
       "      <td>14469.95831</td>\n",
       "    </tr>\n",
       "    <tr>\n",
       "      <th>7/16/2021</th>\n",
       "      <td>14495.41215</td>\n",
       "    </tr>\n",
       "  </tbody>\n",
       "</table>\n",
       "</div>"
      ],
      "text/plain": [
       "                 value\n",
       "date                  \n",
       "7/12/2021  14491.59294\n",
       "7/13/2021  14476.52203\n",
       "7/14/2021  14404.17703\n",
       "7/15/2021  14469.95831\n",
       "7/16/2021  14495.41215"
      ]
     },
     "execution_count": 23,
     "metadata": {},
     "output_type": "execute_result"
    }
   ],
   "source": [
    "exchange=df[['value']].set_index(df.date)\n",
    "exchange.head()"
   ]
  },
  {
   "cell_type": "markdown",
   "metadata": {},
   "source": [
    "Data visualisation (Untuk membuat visualisasi plotnya maka import terlebih dahulu matplotlibnya kemudian masukkan code `.plot()`dan beri judul serta masukkan ukuran visualisasinya)"
   ]
  },
  {
   "cell_type": "code",
   "execution_count": 24,
   "metadata": {},
   "outputs": [],
   "source": [
    "import matplotlib\n",
    "import matplotlib.pyplot as plt"
   ]
  },
  {
   "cell_type": "code",
   "execution_count": 25,
   "metadata": {},
   "outputs": [
    {
     "data": {
      "text/plain": [
       "<AxesSubplot:title={'center':'Indonesian Rupiahs (IDR) per US Dollar (USD)'}, xlabel='date'>"
      ]
     },
     "execution_count": 25,
     "metadata": {},
     "output_type": "execute_result"
    },
    {
     "data": {
      "image/png": "[encoded data removed]",
      "text/plain": [
       "<Figure size 720x360 with 1 Axes>"
      ]
     },
     "metadata": {
      "needs_background": "light"
     },
     "output_type": "display_data"
    }
   ],
   "source": [
    "exchange.plot(title='Indonesian Rupiahs (IDR) per US Dollar (USD)',figsize=(10,5))\n"
   ]
  },
  {
   "cell_type": "markdown",
   "metadata": {},
   "source": [
    "### Implementing your webscrapping to the flask dashboard\n",
    "\n",
    "- Copy paste all of your web scrapping process to the desired position on the `app.py`\n",
    "- Changing the title of the dasboard at `index.html`"
   ]
  },
  {
   "cell_type": "markdown",
   "metadata": {},
   "source": [
    "## Finishing This Notebook with Your Analysis and Conclusion\n",
    "\n",
    "First you can do start with making the data visualisation. "
   ]
  },
  {
   "cell_type": "code",
   "execution_count": 26,
   "metadata": {},
   "outputs": [
    {
     "data": {
      "text/plain": [
       "<AxesSubplot:title={'center':'Indonesian Rupiahs (IDR) per US Dollar (USD)'}, xlabel='date'>"
      ]
     },
     "execution_count": 26,
     "metadata": {},
     "output_type": "execute_result"
    },
    {
     "data": {
      "image/png": "[encoded data removed]",
      "text/plain": [
       "<Figure size 720x360 with 1 Axes>"
      ]
     },
     "metadata": {
      "needs_background": "light"
     },
     "output_type": "display_data"
    }
   ],
   "source": [
    "exchange.plot(title='Indonesian Rupiahs (IDR) per US Dollar (USD)',figsize=(10,5))"
   ]
  },
  {
   "cell_type": "markdown",
   "metadata": {},
   "source": [
    "<p style='text-align: justify;'>Dari visualisasi diatas dapat dilihat bahwa nilai tukar tertinggi (max) ada pada range bulan Juli-Agustus dan terendah (min) ada pada bulan Oktober-November. Jika diliat dari grafik tersebut maka ketika bulan Oktober-November pada periode berikutnya memungkinkan terjadi peningkatan permintaan terhadap mata uang US Dollar sehingga bisa jadi peningkatan harga jika ingin menukarkan mata uang dan sebaliknya pada bulan Juli-Agutus akan banyak yang menjual atapun menukarkan uang US Dollarnya sehingga memungkinkan harga jual dapat mengalami penurunan. Jika ingin melakukan pertukaran mata uang ataupun melakukan trading forex atau sejenisnya pada peride berikutnya dapat dilakukan pada bulan Juli hingga November dengan catatan bahwa pada bulan Juli hingga Agustus dapat dilakukan penjualan terhadap mata uang US Dollar dan pada bulan Oktober hingga November dapat dilakukan pembelian terhadap US Dollar.</p>"
   ]
  },
  {
   "cell_type": "markdown",
   "metadata": {},
   "source": [
    "### Extra Challange\n",
    "\n",
    "This will be not included to the scoring. \n",
    "\n",
    "- You can create additional analysis from the data.\n",
    "- Implement it to the dashboard with at `app.py` dan `index.html`."
   ]
  }
 ],
 "metadata": {
  "interpreter": {
   "hash": "79df392a9396a15a20abb6e1507ab428ec674d2fe0725b8d0b0543ac6f917e37"
  },
  "kernelspec": {
   "display_name": "capstone",
   "language": "python",
   "name": "python3"
  },
  "language_info": {
   "codemirror_mode": {
    "name": "ipython",
    "version": 3
   },
   "file_extension": ".py",
   "mimetype": "text/x-python",
   "name": "python",
   "nbconvert_exporter": "python",
   "pygments_lexer": "ipython3",
   "version": "3.8.12"
  }
 },
 "nbformat": 4,
 "nbformat_minor": 2
}
